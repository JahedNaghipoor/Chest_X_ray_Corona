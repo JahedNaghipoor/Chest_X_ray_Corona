{
  "nbformat": 4,
  "nbformat_minor": 0,
  "metadata": {
    "colab": {
      "name": "Chest X-ray Corona.ipynb",
      "private_outputs": true,
      "provenance": [],
      "collapsed_sections": [],
      "authorship_tag": "ABX9TyOuCFH4pBW62/B1wjl8PJhB",
      "include_colab_link": true
    },
    "kernelspec": {
      "name": "python3",
      "display_name": "Python 3"
    },
    "accelerator": "TPU"
  },
  "cells": [
    {
      "cell_type": "markdown",
      "metadata": {
        "id": "view-in-github",
        "colab_type": "text"
      },
      "source": [
        "<a href=\"https://colab.research.google.com/github/JahedNaghipoor/Chest_X_ray_Corona/blob/main/Chest_X_ray_Corona.ipynb\" target=\"_parent\"><img src=\"https://colab.research.google.com/assets/colab-badge.svg\" alt=\"Open In Colab\"/></a>"
      ]
    },
    {
      "cell_type": "code",
      "metadata": {
        "id": "MUv2C2ERQO5Z"
      },
      "source": [
        "from google.colab import drive\n",
        "drive.mount('/content/gdrive')"
      ],
      "execution_count": null,
      "outputs": []
    },
    {
      "cell_type": "code",
      "metadata": {
        "id": "mGqSRcSFtUcb"
      },
      "source": [
        "import os\n",
        "os.environ['KAGGLE_CONFIG_DIR'] = \"/content/gdrive/MyDrive/Machine Learning and Deep Learning/Chest\""
      ],
      "execution_count": null,
      "outputs": []
    },
    {
      "cell_type": "code",
      "metadata": {
        "id": "UCQsfJ8lyEfu"
      },
      "source": [
        "%cd /content/gdrive/My Drive/Machine Learning and Deep Learning/Chest"
      ],
      "execution_count": null,
      "outputs": []
    },
    {
      "cell_type": "code",
      "metadata": {
        "id": "vaQifWQvQ6Ua"
      },
      "source": [
        "#!kaggle datasets download -d praveengovi/coronahack-chest-xraydataset"
      ],
      "execution_count": null,
      "outputs": []
    },
    {
      "cell_type": "code",
      "metadata": {
        "id": "8DxafzakRFWc"
      },
      "source": [
        "#!unzip \\*.zip  && rm *.zip"
      ],
      "execution_count": null,
      "outputs": []
    },
    {
      "cell_type": "code",
      "metadata": {
        "id": "DXr0eWIOSoPC"
      },
      "source": [
        "import pandas as pd\n",
        "import numpy as np\n",
        "import seaborn as sns\n",
        "from PIL import Image, ImageOps \n",
        "import matplotlib.pyplot as plt\n",
        "%matplotlib inline\n",
        "\n",
        "import os"
      ],
      "execution_count": null,
      "outputs": []
    },
    {
      "cell_type": "code",
      "metadata": {
        "id": "I8GD8E3T96DV"
      },
      "source": [
        "dir = \"./Coronahack-Chest-XRay-Dataset/Coronahack-Chest-XRay-Dataset/\"\n",
        "train_dir = os.path.join(dir,\"train/\")\n",
        "test_dir = os.path.join(dir,\"test/\")"
      ],
      "execution_count": null,
      "outputs": []
    },
    {
      "cell_type": "code",
      "metadata": {
        "id": "iUXQq7fXS3Cj"
      },
      "source": [
        "df = pd.read_csv('Chest_xray_Corona_Metadata.csv')\n",
        "df.head()"
      ],
      "execution_count": null,
      "outputs": []
    },
    {
      "cell_type": "code",
      "metadata": {
        "id": "R3Q5sBhqS5w5"
      },
      "source": [
        "df.describe()"
      ],
      "execution_count": null,
      "outputs": []
    },
    {
      "cell_type": "code",
      "metadata": {
        "id": "ji_kqKFn-2M4"
      },
      "source": [
        "\n",
        "plt.figure(fig_size=(8,8)) \n",
        "missing_values = df.isnull().sum()\n",
        "missing_values.plot.bar()"
      ],
      "execution_count": null,
      "outputs": []
    },
    {
      "cell_type": "code",
      "metadata": {
        "id": "L-fMWeMsJBTF"
      },
      "source": [
        "df.fillna('unknown', inplace=True)\n",
        "df.isnull().sum()"
      ],
      "execution_count": null,
      "outputs": []
    },
    {
      "cell_type": "code",
      "metadata": {
        "id": "GkpGItfb_Lh8"
      },
      "source": [
        "print(\"Total num of train Images are: \",str(len(os.listdir(train_dir))))\n",
        "print()\n",
        "print(\"Total num of test Images are: \",str(len(os.listdir(test_dir))))"
      ],
      "execution_count": null,
      "outputs": []
    },
    {
      "cell_type": "code",
      "metadata": {
        "id": "oNXaFoxoS9H4"
      },
      "source": [
        "sns.countplot(x =  'Label_1_Virus_category', data = df)"
      ],
      "execution_count": null,
      "outputs": []
    },
    {
      "cell_type": "code",
      "metadata": {
        "id": "GUDeBnIeTASj"
      },
      "source": [
        "sns.countplot(x='Label_2_Virus_category', data=df)"
      ],
      "execution_count": null,
      "outputs": []
    },
    {
      "cell_type": "code",
      "metadata": {
        "id": "aKil96WITCxK"
      },
      "source": [
        "df['Label'] = df['Label'].replace({'Pnemonia':1,'Normal':0})\n",
        "\n",
        "train_df = df[df.Dataset_type=='TRAIN']\n",
        "test_df = df[df.Dataset_type=='TEST']"
      ],
      "execution_count": null,
      "outputs": []
    },
    {
      "cell_type": "code",
      "metadata": {
        "id": "xbMwEna1TGGe"
      },
      "source": [
        "train_df.head()"
      ],
      "execution_count": null,
      "outputs": []
    },
    {
      "cell_type": "code",
      "metadata": {
        "id": "vGWCLguGTIYq"
      },
      "source": [
        "test_df.head()"
      ],
      "execution_count": null,
      "outputs": []
    },
    {
      "cell_type": "code",
      "metadata": {
        "id": "S8z35GY089n2"
      },
      "source": [
        "train_df.Label.value_counts().plot.bar()"
      ],
      "execution_count": null,
      "outputs": []
    },
    {
      "cell_type": "code",
      "metadata": {
        "id": "HiDLTA9R9GAA"
      },
      "source": [
        "test_df.Label.value_counts().plot.bar()"
      ],
      "execution_count": null,
      "outputs": []
    },
    {
      "cell_type": "code",
      "metadata": {
        "id": "tGxWsBcJTK2p"
      },
      "source": [
        "df_normal = df[df.Label==0]\n",
        "df_pneumonia = df[df.Label==1]\n",
        "df_pneumonia_covid = df_pneumonia[df_pneumonia.Label_2_Virus_category=='COVID-19']\n",
        "normal_images = df_normal.X_ray_image_name.values.tolist()\n",
        "pneumonia_covid_images = df_pneumonia_covid.X_ray_image_name.values.tolist()"
      ],
      "execution_count": null,
      "outputs": []
    },
    {
      "cell_type": "code",
      "metadata": {
        "id": "2f1_C_YnTOTt"
      },
      "source": [
        "plt.figure(figsize=(12,12))\n",
        "for index, file in enumerate(pneumonia_covid_images[:4]):\n",
        "    file_path = train_dir + str(file)\n",
        "    image = Image.open(file_path)\n",
        "    image = ImageOps.grayscale(image)\n",
        "    image.thumbnail((224,224))\n",
        "    plt.subplot(2,2,index+1)\n",
        "    plt.imshow(image)\n",
        "\n",
        "plt.tight_layout()"
      ],
      "execution_count": null,
      "outputs": []
    },
    {
      "cell_type": "code",
      "metadata": {
        "id": "hyepHrR5-B57"
      },
      "source": [
        "plt.figure(figsize=(12,12))\n",
        "for index, file in enumerate(normal_images[:4]):\n",
        "    file_path = train_dir+ str(file)\n",
        "    image = Image.open(file_path)\n",
        "    image = ImageOps.grayscale(image)\n",
        "    image.thumbnail((224,224))\n",
        "    plt.subplot(2,2,index+1)\n",
        "    plt.imshow(image)\n",
        "\n",
        "plt.tight_layout()"
      ],
      "execution_count": null,
      "outputs": []
    },
    {
      "cell_type": "code",
      "metadata": {
        "id": "eaW4Ow_VTQ1m"
      },
      "source": [
        "from keras import backend as K\n",
        "from keras.preprocessing.image import ImageDataGenerator,load_img, img_to_array\n",
        "from keras.models import Sequential, Model\n",
        "from keras.layers import Conv2D, MaxPooling2D, Dropout, BatchNormalization, Flatten, Dense, AvgPool2D,MaxPool2D\n",
        "from keras.optimizers import Adam, SGD, RMSprop\n",
        "from keras.callbacks import EarlyStopping"
      ],
      "execution_count": null,
      "outputs": []
    },
    {
      "cell_type": "code",
      "metadata": {
        "id": "dAJulWNFTj7l"
      },
      "source": [
        "IMG_W = 150\n",
        "IMG_H = 150\n",
        "CHANNELS = 3\n",
        "\n",
        "INPUT_SHAPE = (IMG_W, IMG_H, CHANNELS)\n",
        "EPOCHS = 5\n",
        "BATCH_SIZE = 6"
      ],
      "execution_count": null,
      "outputs": []
    },
    {
      "cell_type": "code",
      "metadata": {
        "id": "pCF9p2DICiKN"
      },
      "source": [
        "model = Sequential()\n",
        "model.add(Conv2D(filters=32, kernel_size=(3, 3), strides=(1,1), input_shape=INPUT_SHAPE, activation='relu'))\n",
        "model.add(MaxPooling2D(pool_size=(2, 2)))\n",
        "\n",
        "model.add(Conv2D(filters=32, kernel_size=(3, 3), strides=(1,1), activation='relu'))\n",
        "model.add(MaxPooling2D(pool_size=(2, 2)))\n",
        "\n",
        "model.add(Conv2D(filters= 64, kernel_size= (3,3), activation='relu'))\n",
        "model.add(MaxPooling2D(pool_size=(2, 2)))\n",
        "    \n",
        "model.add(Flatten())\n",
        "model.add(Dense(units=32, activation='relu'))\n",
        "model.add(Dropout(rate=0.25))\n",
        "model.add(Dense(units=1, activation='sigmoid'))\n",
        "\n",
        "model.compile(loss='binary_crossentropy',optimizer='adam', metrics=['accuracy'])"
      ],
      "execution_count": null,
      "outputs": []
    },
    {
      "cell_type": "code",
      "metadata": {
        "id": "hh-nDBnrTqab"
      },
      "source": [
        "model.summary()"
      ],
      "execution_count": null,
      "outputs": []
    },
    {
      "cell_type": "code",
      "metadata": {
        "id": "Sv07hYEzTt3z"
      },
      "source": [
        "train_datagen = ImageDataGenerator(\n",
        "    rescale=1./255,\n",
        "    zoom_range=0.2,\n",
        "    horizontal_flip=True,\n",
        "    validation_split=0.2)\n",
        "\n",
        "train_generator = train_datagen.flow_from_directory(\n",
        "    dir,\n",
        "    target_size=(IMG_H, IMG_W),\n",
        "    batch_size=BATCH_SIZE,\n",
        "    class_mode='binary',\n",
        "    subset='training')\n",
        "\n",
        "validation_generator = train_datagen.flow_from_directory(\n",
        "    dir, \n",
        "    target_size=(IMG_H, IMG_W),\n",
        "    batch_size=BATCH_SIZE,\n",
        "    class_mode='binary',\n",
        "    shuffle= False,\n",
        "    subset='validation')\n",
        "\n",
        "history = model.fit_generator(\n",
        "    train_generator,\n",
        "    steps_per_epoch = train_generator.samples // BATCH_SIZE,\n",
        "    validation_data = validation_generator, \n",
        "    validation_steps = validation_generator.samples // BATCH_SIZE,\n",
        "    epochs = EPOCHS)"
      ],
      "execution_count": null,
      "outputs": []
    },
    {
      "cell_type": "code",
      "metadata": {
        "id": "AvsndU70MjvK"
      },
      "source": [
        "history.history"
      ],
      "execution_count": null,
      "outputs": []
    },
    {
      "cell_type": "code",
      "metadata": {
        "id": "sea2Ih1YAvMx"
      },
      "source": [
        "print(\"training accuracy\", history.history['accuracy'][-1])\n",
        "print(\"validation accuracy\", history.history['val_accuracy'][-1])"
      ],
      "execution_count": null,
      "outputs": []
    },
    {
      "cell_type": "code",
      "metadata": {
        "id": "Zq8T6kJQ-_cr"
      },
      "source": [
        "acc = pd.DataFrame(model.history.history)\n",
        "acc[['accuracy','val_accuracy']].plot()"
      ],
      "execution_count": null,
      "outputs": []
    },
    {
      "cell_type": "code",
      "metadata": {
        "id": "ib93AryWqJjK"
      },
      "source": [
        "'''label = validation_generator.classes\n",
        "pred= model.predict(validation_generator)\n",
        "predicted_class_indices=np.argmax(pred,axis=1)'''"
      ],
      "execution_count": null,
      "outputs": []
    },
    {
      "cell_type": "code",
      "metadata": {
        "id": "FEy4OdGXD6_j"
      },
      "source": [
        "'''from sklearn.metrics import confusion_matrix\n",
        "\n",
        "cf = confusion_matrix(predicted_class_indices,label)\n",
        "sns.heatmap(cf, annot =True)'''"
      ],
      "execution_count": null,
      "outputs": []
    },
    {
      "cell_type": "code",
      "metadata": {
        "id": "6qgYeksfFDoa"
      },
      "source": [
        ""
      ],
      "execution_count": null,
      "outputs": []
    }
  ]
}